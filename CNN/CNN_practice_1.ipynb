{
 "cells": [
  {
   "cell_type": "code",
   "execution_count": null,
   "id": "4a662265",
   "metadata": {},
   "outputs": [],
   "source": [
    "# Calculate the network structure of the convolution layer"
   ]
  },
  {
   "cell_type": "code",
   "execution_count": 2,
   "id": "9b44fba4",
   "metadata": {},
   "outputs": [
    {
     "name": "stdout",
     "output_type": "stream",
     "text": [
      "torch.Size([1, 5, 100, 100])\n",
      "torch.Size([1, 10, 98, 98])\n",
      "torch.Size([10, 5, 3, 3])\n"
     ]
    }
   ],
   "source": [
    "import torch\n",
    "\n",
    "# 定义输入和输出通道数\n",
    "in_channels, out_channels = 5, 10\n",
    "# 图像大小\n",
    "width, height = 100, 100\n",
    "# 卷积核大小\n",
    "kernel_size = 3\n",
    "batch_size = 1\n",
    "\n",
    "input = torch.randn(batch_size,\n",
    "                    in_channels,\n",
    "                    width,\n",
    "                    height)\n",
    "# 创建卷积层\n",
    "conv_layer = torch.nn.Conv2d(in_channels,\n",
    "                             out_channels,\n",
    "                             kernel_size=kernel_size)\n",
    "\n",
    "output = conv_layer(input)\n",
    "# 输入形状 5个通道，图像大小100 x 100\n",
    "print(input.shape)\n",
    "# 输出形状 10个通道， 图像大小 98 x 98\n",
    "print(output.shape)\n",
    "# 卷积层权重的形状，[10,5,3,3]表示 输出通道，输入通道，卷积核大小\n",
    "print(conv_layer.weight.shape)"
   ]
  },
  {
   "cell_type": "code",
   "execution_count": null,
   "id": "8ab5dfb8",
   "metadata": {},
   "outputs": [],
   "source": []
  }
 ],
 "metadata": {
  "kernelspec": {
   "display_name": "Python 3 (ipykernel)",
   "language": "python",
   "name": "python3"
  },
  "language_info": {
   "codemirror_mode": {
    "name": "ipython",
    "version": 3
   },
   "file_extension": ".py",
   "mimetype": "text/x-python",
   "name": "python",
   "nbconvert_exporter": "python",
   "pygments_lexer": "ipython3",
   "version": "3.8.3"
  }
 },
 "nbformat": 4,
 "nbformat_minor": 5
}
