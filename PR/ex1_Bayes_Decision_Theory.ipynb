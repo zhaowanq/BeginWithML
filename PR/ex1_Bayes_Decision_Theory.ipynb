{
 "cells": [
  {
   "cell_type": "code",
   "execution_count": 1,
   "id": "3a14fefa",
   "metadata": {},
   "outputs": [],
   "source": [
    "from scipy.stats import norm\n",
    "import matplotlib.pyplot as plt\n",
    "import numpy as np\n",
    "\n",
    "# 导入数据\n",
    "x = np.array([-2.67, -3.55, -1.24, -0.98, -0.79, -2.85, -2.76, -3.73, -3.54, -2.27,\n",
    "              -3.45, -3.08, -1.58, -1.49, -0.74, -0.42, -1.12, 4.25, -3.99, 2.88,\n",
    "              -0.98, 0.79, 1.19, 3.07])\n",
    "\n",
    "# 先验概率\n",
    "pw1=0.9\n",
    "pw2=0.1\n",
    "# 类条件概率密度\n",
    "args1=[-2,1.5]\n",
    "args2=[2,2]\n",
    "# 定义损失\n",
    "loss_12=7\n",
    "loss_21=2\n",
    "loss_11=loss_22=0\n",
    "\n",
    "# 计算数据的后验概率\n",
    "# 数据在第一类的类条件概率\n",
    "pxw1=norm.pdf(x,args1[0],args1[1])\n",
    "# 数据在第二类的类条件概率\n",
    "pxw2=norm.pdf(x,args2[0],args2[1])"
   ]
  },
  {
   "cell_type": "code",
   "execution_count": 2,
   "id": "11c57512",
   "metadata": {
    "scrolled": true
   },
   "outputs": [
    {
     "name": "stdout",
     "output_type": "stream",
     "text": [
      "0.2407 0.1559 0.2339 0.2111 0.1921 0.2265 0.2339 0.1368 0.1570 0.2617 0.1667 0.2052 0.2557 0.2510 0.1869 0.1527 0.2239 0.0000 0.1103 0.0013 0.2111 0.0472 0.0277 0.0009 "
     ]
    }
   ],
   "source": [
    "# 输出第一类的类条件概率\n",
    "for i in range(24):\n",
    "    print('%.4f'%pxw1[i],end=' ')"
   ]
  },
  {
   "cell_type": "code",
   "execution_count": 3,
   "id": "0ee7561f",
   "metadata": {},
   "outputs": [
    {
     "name": "stdout",
     "output_type": "stream",
     "text": [
      "0.0131 0.0042 0.0537 0.0657 0.0754 0.0105 0.0117 0.0033 0.0043 0.0204 0.0049 0.0079 0.0402 0.0435 0.0780 0.0959 0.0591 0.1059 0.0022 0.1811 0.0657 0.1661 0.1838 0.1729 "
     ]
    }
   ],
   "source": [
    "# 输出第二类的类条件概率\n",
    "for i in range(24):\n",
    "    print('%.4f'%pxw2[i],end=' ')"
   ]
  },
  {
   "cell_type": "code",
   "execution_count": 3,
   "id": "f933e39c",
   "metadata": {},
   "outputs": [
    {
     "name": "stdout",
     "output_type": "stream",
     "text": [
      "0.2179 0.1408 0.2159 0.1965 0.1804 0.2049 0.2117 0.1234 0.1417 0.2376 0.1505 0.1855 0.2342 0.2303 0.1760 0.1470 0.2074 0.0106 0.0995 0.0193 0.1965 0.0591 0.0433 0.0181 "
     ]
    }
   ],
   "source": [
    "# 计算证据因子\n",
    "px=pxw1*pw1+pxw2*pw2\n",
    "\n",
    "# 输出\n",
    "for i in range(24):\n",
    "    print('%.4f'%px[i],end=' ')"
   ]
  },
  {
   "cell_type": "code",
   "execution_count": 4,
   "id": "3e8beefc",
   "metadata": {},
   "outputs": [
    {
     "name": "stdout",
     "output_type": "stream",
     "text": [
      "0.9940 0.9970 0.9751 0.9666 0.9582 0.9949 0.9945 0.9973 0.9970 0.9914 0.9968 0.9957 0.9828 0.9811 0.9557 0.9348 0.9715 0.0038 0.9977 0.0624 0.9666 0.7187 0.5758 0.0438 "
     ]
    }
   ],
   "source": [
    "# 计算数据属于第一类的后验概率\n",
    "pw1x=pxw1*pw1/px\n",
    "\n",
    "# 输出\n",
    "for i in range(24):\n",
    "    print('%.4f'%pw1x[i],end=' ')"
   ]
  },
  {
   "cell_type": "code",
   "execution_count": 5,
   "id": "0ea2401e",
   "metadata": {},
   "outputs": [
    {
     "name": "stdout",
     "output_type": "stream",
     "text": [
      "0.0060 0.0030 0.0249 0.0334 0.0418 0.0051 0.0055 0.0027 0.0030 0.0086 0.0032 0.0043 0.0172 0.0189 0.0443 0.0652 0.0285 0.9962 0.0023 0.9376 0.0334 0.2813 0.4242 0.9562 "
     ]
    }
   ],
   "source": [
    "# 计算数据属于第二类的后验概率\n",
    "pw2x=1-pw1x\n",
    "\n",
    "# 输出\n",
    "for i in range(24):\n",
    "    print('%.4f'%pw2x[i],end=' ')"
   ]
  },
  {
   "cell_type": "code",
   "execution_count": 6,
   "id": "48508e5b",
   "metadata": {},
   "outputs": [],
   "source": [
    "# 建立初始分类矩阵\n",
    "R = np.zeros(24)\n",
    "\n",
    "# 基于最小错误率进行分类决策\n",
    "for i in range(24):\n",
    "    if(pw1x[i]>pw2x[i]):\n",
    "        R[i]=1\n",
    "    else:\n",
    "        R[i]=2\n",
    "    i=i+1"
   ]
  },
  {
   "cell_type": "code",
   "execution_count": 7,
   "id": "c38629f3",
   "metadata": {},
   "outputs": [
    {
     "data": {
      "text/plain": [
       "array([1., 1., 1., 1., 1., 1., 1., 1., 1., 1., 1., 1., 1., 1., 1., 1., 1.,\n",
       "       2., 1., 2., 1., 1., 1., 2.])"
      ]
     },
     "execution_count": 7,
     "metadata": {},
     "output_type": "execute_result"
    }
   ],
   "source": [
    "# 输出结果\n",
    "R"
   ]
  },
  {
   "cell_type": "code",
   "execution_count": 8,
   "id": "b37c2086",
   "metadata": {},
   "outputs": [
    {
     "name": "stdout",
     "output_type": "stream",
     "text": [
      "0.0419 0.0211 0.1741 0.2341 0.2925 0.0360 0.0388 0.0187 0.0212 0.0602 0.0226 0.0299 0.1201 0.1323 0.3104 0.4567 0.1994 6.9732 0.0158 6.5635 0.2341 1.9690 2.9694 6.6936 \n",
      "1.9880 1.9940 1.9503 1.9331 1.9164 1.9897 1.9889 1.9947 1.9939 1.9828 1.9935 1.9915 1.9657 1.9622 1.9113 1.8695 1.9430 0.0076 1.9955 0.1247 1.9331 1.4374 1.1516 0.0875 "
     ]
    }
   ],
   "source": [
    "# 计算属于第一、二类的条件风险\n",
    "R1 = pw2x*loss_12\n",
    "R2 = pw1x*loss_21\n",
    "\n",
    "# 输出条件风险\n",
    "for i in range(24):\n",
    "    print('%.4f'%R1[i],end=' ')\n",
    "print()\n",
    "for i in range(24):\n",
    "    print('%.4f'%R2[i],end=' ')"
   ]
  },
  {
   "cell_type": "code",
   "execution_count": 9,
   "id": "9b80c8bd",
   "metadata": {},
   "outputs": [],
   "source": [
    "# 建立初始分类矩阵\n",
    "Y = np.zeros(24)\n",
    "\n",
    "# 基于最小风险进行分类决策\n",
    "for i in range(24):\n",
    "    if(R1[i]<R2[i]):\n",
    "        Y[i]=1\n",
    "    else:\n",
    "        Y[i]=2\n",
    "    i=i+1"
   ]
  },
  {
   "cell_type": "code",
   "execution_count": 10,
   "id": "3101068d",
   "metadata": {},
   "outputs": [
    {
     "data": {
      "text/plain": [
       "array([1., 1., 1., 1., 1., 1., 1., 1., 1., 1., 1., 1., 1., 1., 1., 1., 1.,\n",
       "       2., 1., 2., 1., 2., 2., 2.])"
      ]
     },
     "execution_count": 10,
     "metadata": {},
     "output_type": "execute_result"
    }
   ],
   "source": [
    "# 输出结果\n",
    "Y"
   ]
  }
 ],
 "metadata": {
  "kernelspec": {
   "display_name": "Python 3 (ipykernel)",
   "language": "python",
   "name": "python3"
  },
  "language_info": {
   "codemirror_mode": {
    "name": "ipython",
    "version": 3
   },
   "file_extension": ".py",
   "mimetype": "text/x-python",
   "name": "python",
   "nbconvert_exporter": "python",
   "pygments_lexer": "ipython3",
   "version": "3.8.3"
  }
 },
 "nbformat": 4,
 "nbformat_minor": 5
}
